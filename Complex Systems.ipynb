{
 "cells": [
  {
   "cell_type": "markdown",
   "metadata": {},
   "source": [
    "# Complex Systems\n",
    "# Week 6-7, Semester 2, 2019"
   ]
  },
  {
   "cell_type": "markdown",
   "metadata": {},
   "source": [
    "### Notes\n",
    "    -skip 8,9,10 (practical statistics) but do 11\n",
    "    -Set an aim for each day. Show process of code evolving.\n",
    "    -Why do we care about this lab."
   ]
  },
  {
   "cell_type": "markdown",
   "metadata": {},
   "source": [
    "## Day 1: September 3, 2019\n",
    "Make progress with theory."
   ]
  },
  {
   "cell_type": "markdown",
   "metadata": {},
   "source": [
    "### Bak-Tang-Wiesenfeld Model (Mathematical sandpile)\n",
    "A cellular automaton where grains of sand are randomly placed in discrete cells until a threshold value is reached. When this happens, an avalanche follows. \n",
    "\n",
    "To create this model, first begin with an N by N grid. At each site, assign $z(i, j, t)$ as the number of grains present. Define $\\delta (i, j)$ as the random site, giving the final state of the system as $Z(\\tau) = \\sum_{t=0}^{\\tau} \\sum_{(i, j)} z(i, j, 0) + \\delta_{t}(i, j)$. \n",
    "\n",
    "1. Setting each cell to have 0 sand.\n",
    "2. Randomly (pick a distribution?) add 1 sand to each cell.\n",
    "3. When a thereshold sand value of 4 is reached, begin avalanche. \n",
    "4. At the edges, delete the sand. \n",
    "5. Repeat 1-3 until the system is statistically stationary."
   ]
  },
  {
   "cell_type": "markdown",
   "metadata": {},
   "source": [
    "### Toppling\n",
    "During an avalanche, toppling events occur until the system stabilises. In a toppling event, add 1 sand to each adjacent i and j cells, such that an avalanche beginning at $z(i, j, t)$ describes: \n",
    "\n",
    "$\n",
    "\\begin{align*}\n",
    "z(i ,j, t) &= z(i ,j, t) - 4 \\\\\n",
    "z(i +- 1, j ,t) &= z(i +- 1, j, t) + 1 \\\\\n",
    "z(i, j+- 1, t) &= z(i, j+- 1, t) + 1 \\\\\n",
    "\\end{align*}$\n",
    "\n",
    "The avalanche is characterised by\n",
    "- S: Number of grains of sand displaced (number of avalanches * threshold).\n",
    "- T: the number of timesteps it takes for an avalanche to relax the system to a critical state.\n",
    "- A: Number of unique sites that topple.\n",
    "- R: The maximum distance from the original toppling site \n",
    "\n",
    "#### Q1 \n",
    "We're insisting on finite boundaries because if the probability distribution used to get step 2 is normalised over the whole space, the value of pdf approaches zero. In a non-random way, it is not important for the system to have finite boundaries because this allows us to see how the system behaves at large $t$, and the system will approach equilibrium when the dropping stops.\n",
    "\n",
    "#### Toppling Matrix\n",
    "The toppling matrix $\\delta_{x,y}^V$ is the amount of sand the site $x$ distributes to $y$, an adjacent cell. The toppling matrix has the following properties.\n",
    "\n",
    "$\\forall x,y \\in V, x!=y, \\delta_{x,y}^V = \\delta_{y,x}^V \\leq 0$ Points at opposite ends of the table can only gain sand or stay stable but not lose them.\n",
    "\n",
    "$\\forall x \\in V, \\delta_{x,x}^V \\geq 1$ The amount of sand each cell can lose is at least 1.\n",
    "\n",
    "$\\forall x \\in V, \\sum_{y \\in V}\\delta_{x,y}^V \\geq 0$ cannot gain more sand from a toppling.\n",
    "\n",
    "$\\sum_{x \\in V}\\sum_{y \\in V}\\delta_{x,y}^V > 0$ Eventually will lose sand over the table.\n",
    "\n",
    "#### Abelian property\n",
    "The Abelian property states that in the event that there's more than one cells reaching the threshold at a given time, the order in which which cell should undergo the topple first does not matter. "
   ]
  },
  {
   "cell_type": "markdown",
   "metadata": {},
   "source": [
    "### Stastical stationary\n",
    "\n",
    "#### Q2\n",
    "\n",
    "A system that is statistically stationary when the probability distribution of the contents of each cell does not change but there may be avalanches and random additions of sand still happening, i.e. $Z(t) -> constant$ (or when the rate of sand dropping is equal to the rate of sand deletion $s(i, j)$, i.e. $\\delta (i, j) = s(i, j)$). A system is in equilibrium when its state of motion or internal energy does not change in time. Our sandpile will likely be statitically stationary after some time $t_s$ but it will not be in equilibrium unless $\\delta (i, j) = s(i, j) = 0$ and $Z(t) -> constant$ (there are no more addition or deletion of sand and the states of each cell are constant.\n",
    "\n",
    "#### Q3\n",
    "\n",
    "There is no difference between sampling a system over time and sampling an ensemble of systems over long periods of time according to the ergodic hypothesis."
   ]
  },
  {
   "cell_type": "code",
   "execution_count": 105,
   "metadata": {},
   "outputs": [],
   "source": [
    "import pathlib\n",
    "import time\n",
    "\n",
    "import matplotlib\n",
    "import numpy as np\n",
    "import pandas as pd\n",
    "from matplotlib import pyplot"
   ]
  },
  {
   "cell_type": "code",
   "execution_count": null,
   "metadata": {},
   "outputs": [],
   "source": [
    "%run sandpile.py # import sandpile.py, letting us use all functions as it is."
   ]
  },
  {
   "cell_type": "code",
   "execution_count": 106,
   "metadata": {},
   "outputs": [
    {
     "name": "stdout",
     "output_type": "stream",
     "text": [
      "grid before: [[1 0 1 1 3 5 0 0 2 1]\n",
      " [4 0 2 0 1 0 0 0 0 4]\n",
      " [1 0 0 0 2 0 1 1 1 1]\n",
      " [0 1 0 0 1 1 1 1 1 0]\n",
      " [1 3 0 0 0 0 3 0 1 0]\n",
      " [0 1 0 0 2 4 1 2 1 0]\n",
      " [1 2 2 2 2 2 1 0 3 2]\n",
      " [0 2 1 2 2 0 1 3 0 1]\n",
      " [1 1 0 1 0 0 1 0 1 1]\n",
      " [1 1 0 0 2 1 2 1 0 0]]\n"
     ]
    },
    {
     "ename": "NameError",
     "evalue": "name 'pyplot' is not defined",
     "output_type": "error",
     "traceback": [
      "\u001b[0;31m---------------------------------------------------------------------------\u001b[0m",
      "\u001b[0;31mNameError\u001b[0m                                 Traceback (most recent call last)",
      "\u001b[0;32m<ipython-input-106-a46d46a54cfe>\u001b[0m in \u001b[0;36m<module>\u001b[0;34m()\u001b[0m\n\u001b[1;32m      3\u001b[0m \u001b[0;34m\u001b[0m\u001b[0m\n\u001b[1;32m      4\u001b[0m \u001b[0msand\u001b[0m \u001b[0;34m=\u001b[0m \u001b[0mSandPile\u001b[0m\u001b[0;34m(\u001b[0m\u001b[0;36m10\u001b[0m\u001b[0;34m,\u001b[0m\u001b[0;36m10\u001b[0m\u001b[0;34m)\u001b[0m\u001b[0;34m\u001b[0m\u001b[0;34m\u001b[0m\u001b[0m\n\u001b[0;32m----> 5\u001b[0;31m \u001b[0msand\u001b[0m\u001b[0;34m.\u001b[0m\u001b[0mavalanche\u001b[0m\u001b[0;34m(\u001b[0m\u001b[0;34m)\u001b[0m\u001b[0;34m\u001b[0m\u001b[0;34m\u001b[0m\u001b[0m\n\u001b[0m\u001b[1;32m      6\u001b[0m \u001b[0mprint\u001b[0m\u001b[0;34m(\u001b[0m\u001b[0;34mf\"\\ngrid after {sand.grid}\"\u001b[0m\u001b[0;34m)\u001b[0m\u001b[0;34m\u001b[0m\u001b[0;34m\u001b[0m\u001b[0m\n",
      "\u001b[0;32m/home/student.unimelb.edu.au/atanesha/Documents/lab 3 sem 2/complex/sandpile/github/complex/sandpile.py\u001b[0m in \u001b[0;36mavalanche\u001b[0;34m(self)\u001b[0m\n\u001b[1;32m    138\u001b[0m                     \u001b[0;32mbreak\u001b[0m\u001b[0;34m\u001b[0m\u001b[0;34m\u001b[0m\u001b[0m\n\u001b[1;32m    139\u001b[0m \u001b[0;34m\u001b[0m\u001b[0m\n\u001b[0;32m--> 140\u001b[0;31m         \u001b[0mfig\u001b[0m\u001b[0;34m,\u001b[0m \u001b[0max\u001b[0m \u001b[0;34m=\u001b[0m \u001b[0mpyplot\u001b[0m\u001b[0;34m.\u001b[0m\u001b[0msubplots\u001b[0m\u001b[0;34m(\u001b[0m\u001b[0;34m)\u001b[0m\u001b[0;34m\u001b[0m\u001b[0;34m\u001b[0m\u001b[0m\n\u001b[0m\u001b[1;32m    141\u001b[0m         \u001b[0max\u001b[0m\u001b[0;34m.\u001b[0m\u001b[0mplot\u001b[0m\u001b[0;34m(\u001b[0m\u001b[0mself\u001b[0m\u001b[0;34m.\u001b[0m\u001b[0mgrid\u001b[0m\u001b[0;34m)\u001b[0m\u001b[0;34m\u001b[0m\u001b[0;34m\u001b[0m\u001b[0m\n\u001b[1;32m    142\u001b[0m         \u001b[0max\u001b[0m\u001b[0;34m.\u001b[0m\u001b[0mset_title\u001b[0m\u001b[0;34m(\u001b[0m\u001b[0;34m\"Plot of sin(x) / x\"\u001b[0m\u001b[0;34m)\u001b[0m\u001b[0;34m\u001b[0m\u001b[0;34m\u001b[0m\u001b[0m\n",
      "\u001b[0;31mNameError\u001b[0m: name 'pyplot' is not defined"
     ]
    }
   ],
   "source": [
    "%run sandpile.py # import sandpile.py, letting us use all functions as it is.\n",
    "# Initialise a sandpile on a table\n",
    "\n",
    "sand = SandPile(10,10)\n",
    "sand.avalanche()\n",
    "print(f\"\\ngrid after {sand.grid}\")\n"
   ]
  },
  {
   "cell_type": "code",
   "execution_count": null,
   "metadata": {},
   "outputs": [],
   "source": []
  }
 ],
 "metadata": {
  "kernelspec": {
   "display_name": "Python 3",
   "language": "python",
   "name": "python3"
  }
 },
 "nbformat": 4,
 "nbformat_minor": 2
}
