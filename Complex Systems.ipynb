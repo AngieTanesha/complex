{
 "cells": [
  {
   "cell_type": "markdown",
   "metadata": {},
   "source": [
    "# Complex Systems\n",
    "# Week 6-7, Semester 2, 2019"
   ]
  },
  {
   "cell_type": "markdown",
   "metadata": {},
   "source": [
    "### Notes\n",
    "    -skip 8,9,10 (practical statistics) but do 11\n",
    "    -Set an aim for each day. Show process of code evolving.\n",
    "    -Why do we care about this lab."
   ]
  },
  {
   "cell_type": "markdown",
   "metadata": {},
   "source": [
    "## Day 1: September 3, 2019\n",
    "Make progress with theory."
   ]
  },
  {
   "cell_type": "markdown",
   "metadata": {},
   "source": [
    "### Bak-Tang-Wiesenfeld Model (Mathematical sandpile)\n",
    "A cellular automaton where grains of sand are randomly placed in discrete cells until a threshold value is reached. When this happens, an avalanche follows. \n",
    "\n",
    "To create this model, first begin with an N by N grid. At each site, assign $z(i, j, t)$ as the number of grains present. Define $\\delta (i, j)$ as the random site, giving the final state of the system as $Z(\\tau) = \\sum_{t=0}^{\\tau} \\sum_{(i, j)} z(i, j, 0) + \\delta_{t}(i, j)$. \n",
    "\n",
    "1. Setting each cell to have 0 sand.\n",
    "2. Randomly (pick a distribution?) add 1 sand to each cell.\n",
    "3. When a thereshold sand value of 4 is reached, begin avalanche. \n",
    "4. At the edges, delete the sand. \n",
    "5. Repeat 1-3 until the system is statistically stationary.\n",
    "\n",
    "#### Abelian property\n",
    "The Abelian property states that in the event that there's more than one cells reaching the threshold at a given time, the order in which which cell should undergo the topple first does not matter. \n",
    "\n",
    "Proof: \n",
    "\n",
    "\n"
   ]
  },
  {
   "cell_type": "markdown",
   "metadata": {},
   "source": [
    "### Avalanche\n",
    "During the avalanche, add 1 to each adjacent i and j cells, such that an \"avalanche\" beginning at $z(i, j, t)$ describes: \n",
    "\n",
    "$\n",
    "\\begin{align*}\n",
    "z(i ,j, t) &= z(i ,j, t) - 4 \\\\\n",
    "z(i +- 1, j ,t) &= z(i +- 1, j, t) + 1 \\\\\n",
    "z(i, j+- 1, t) &= z(i, j+- 1, t) + 1 \\\\\n",
    "\\end{align*}$\n",
    "\n",
    "The avalanche is characterised by\n",
    "    - S: Number of grains of sand displaced (number of avalanches\n",
    "\n",
    "#### Q1 \n",
    "We're insisting on finite boundaries because if the probability distribution used to get step 2 is normalised over the whole space, the value of pdf approaches zero. In a non-random way, it is not important for the system to have finite boundaries because this allows us to see how the system behaves at large $t$, and the system will approach equilibrium when the dropping stops."
   ]
  },
  {
   "cell_type": "markdown",
   "metadata": {},
   "source": [
    "### Stastical stationary\n",
    "\n",
    "#### Q2\n",
    "\n",
    "A system that is statistically stationary when the probability distribution of the contents of each cell does not change but there may be avalanches and random additions of sand still happening, i.e. $Z(t) -> constant$ (or when the rate of sand dropping is equal to the rate of sand deletion $s(i, j)$, i.e. $\\delta (i, j) = s(i, j)$). A system is in equilibrium when its state of motion or internal energy does not change in time. Our sandpile will likely be statitically stationary after some time $t_s$ but it will not be in equilibrium unless $\\delta (i, j) = s(i, j) = 0$ and $Z(t) -> constant$ (there are no more addition or deletion of sand and the states of each cell are constant.\n",
    "\n",
    "#### Q3\n",
    "\n",
    "There is no difference between sampling a system over time and sampling an ensemble of systems over long periods of time according to the ergodic hypothesis."
   ]
  },
  {
   "cell_type": "code",
   "execution_count": 39,
   "metadata": {},
   "outputs": [],
   "source": [
    "%run sandpile.py # import sandpile.py, letting us use all functions as it is."
   ]
  },
  {
   "cell_type": "code",
   "execution_count": null,
   "metadata": {},
   "outputs": [],
   "source": []
  }
 ],
 "metadata": {
  "kernelspec": {
   "display_name": "Python 3",
   "language": "python",
   "name": "python3"
  },
  "language_info": {
   "codemirror_mode": {
    "name": "ipython",
    "version": 3
   },
   "file_extension": ".py",
   "mimetype": "text/x-python",
   "name": "python",
   "nbconvert_exporter": "python",
   "pygments_lexer": "ipython3",
   "version": "3.6.8"
  }
 },
 "nbformat": 4,
 "nbformat_minor": 2
}
