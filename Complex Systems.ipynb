{
 "cells": [
  {
   "cell_type": "markdown",
   "metadata": {},
   "source": [
    "# Complex Systems\n",
    "\n",
    "Week 6-7, Semester 2, 2019\n",
    "Students: Angela, Farid, Cassidy, Tracey, Alex"
   ]
  },
  {
   "cell_type": "markdown",
   "metadata": {},
   "source": [
    "### Bak-Tang-Wiesenfeld Model (Mathematical sandpile)\n",
    "A cellular automaton where grains of sand are randomly placed in discrete cells until a threshold value is reached. When this happens, an avalanche follows. \n",
    "\n",
    "To create this model, first begin with an N by N grid. At each site, assign $z(i, j, t)$ as the number of grains present. Define $\\delta (i, j)$ as the random site, giving the final state of the system as $Z(\\tau) = \\sum_{t=0}^{\\tau} \\sum_{(i, j)} z(i, j, 0) + \\delta_{t}(i, j)$. \n",
    "\n",
    "1. Setting each cell to have 0 sand.\n",
    "2. Randomly (pick a distribution?) add 1 sand to each cell.\n",
    "3. When a thereshold sand value of 4 is reached, begin avalanche. \n",
    "4. At the edges, delete the sand. \n",
    "5. Repeat 1-3 until the system is statistically stationary."
   ]
  },
  {
   "cell_type": "markdown",
   "metadata": {},
   "source": [
    "### Toppling\n",
    "During an avalanche, toppling events occur until the system stabilises. In a toppling event, add 1 sand to each adjacent i and j cells, such that an avalanche beginning at $z(i, j, t)$ describes: \n",
    "\n",
    "$\n",
    "\\begin{align*}\n",
    "z(i ,j, t) &= z(i ,j, t) - 4 \\\\\n",
    "z(i +- 1, j ,t) &= z(i +- 1, j, t) + 1 \\\\\n",
    "z(i, j+- 1, t) &= z(i, j+- 1, t) + 1 \\\\\n",
    "\\end{align*}$\n",
    "\n",
    "The avalanche is characterised by\n",
    "- S: Number of grains of sand displaced (number of avalanches * threshold).\n",
    "- T: the number of timesteps it takes for an avalanche to relax the system to a critical state.\n",
    "- A: Number of unique sites that topple.\n",
    "- R: The maximum distance from the original toppling site \n",
    "\n",
    "#### Q1 \n",
    "We're insisting on finite boundaries because if the probability distribution used to get step 2 is normalised over the whole space, the value of pdf approaches zero. In a non-random way, it is not important for the system to have finite boundaries because this allows us to see how the system behaves at large $t$, and the system will approach equilibrium when the dropping stops.\n",
    "\n",
    "#### Toppling Matrix\n",
    "The toppling matrix $\\delta_{x,y}^V$ is the amount of sand the site $x$ distributes to $y$, an adjacent cell. The toppling matrix has the following properties.\n",
    "\n",
    "$\\forall x,y \\in V, x!=y, \\delta_{x,y}^V = \\delta_{y,x}^V \\leq 0$ Points at opposite ends of the table can only gain sand or stay stable but not lose them.\n",
    "\n",
    "$\\forall x \\in V, \\delta_{x,x}^V \\geq 1$ The amount of sand each cell can lose is at least 1.\n",
    "\n",
    "$\\forall x \\in V, \\sum_{y \\in V}\\delta_{x,y}^V \\geq 0$ cannot gain more sand from a toppling.\n",
    "\n",
    "$\\sum_{x \\in V}\\sum_{y \\in V}\\delta_{x,y}^V > 0$ Eventually will lose sand over the table.\n",
    "\n",
    "#### Abelian property\n",
    "The Abelian property states that in the event that there's more than one cells reaching the threshold at a given time, the order in which which cell should undergo the topple first does not matter. "
   ]
  },
  {
   "cell_type": "markdown",
   "metadata": {},
   "source": [
    "### Stastical stationary\n",
    "\n",
    "#### Q2\n",
    "\n",
    "A system that is statistically stationary when the probability distribution of the contents of each cell does not change but there may be avalanches and random additions of sand still happening, i.e. $Z(t) -> constant$ (or when the rate of sand dropping is equal to the rate of sand deletion $s(i, j)$, i.e. $\\delta (i, j) = s(i, j)$). A system is in equilibrium when its state of motion or internal energy does not change in time. Our sandpile will likely be statitically stationary after some time $t_s$ but it will not be in equilibrium unless $\\delta (i, j) = s(i, j) = 0$ and $Z(t) -> constant$ (there are no more addition or deletion of sand and the states of each cell are constant.\n",
    "\n",
    "#### Q3\n",
    "\n",
    "There is no difference between sampling a system over time and sampling an ensemble of systems over long periods of time according to the ergodic hypothesis."
   ]
  },
  {
   "cell_type": "code",
   "execution_count": 14,
   "metadata": {},
   "outputs": [],
   "source": [
    "import pathlib\n",
    "import time\n",
    "\n",
    "import matplotlib\n",
    "import numpy as np\n",
    "import pandas as pd\n",
    "import seaborn as sns\n",
    "from matplotlib import pyplot"
   ]
  },
  {
   "cell_type": "code",
   "execution_count": 83,
   "metadata": {},
   "outputs": [
    {
     "name": "stdout",
     "output_type": "stream",
     "text": [
      "grid before:\n",
      "[[3 3 3 1 6 1 5 7 1 2]\n",
      " [2 3 7 2 2 2 5 4 2 4]\n",
      " [5 1 2 0 5 4 5 2 8 2]\n",
      " [3 4 2 2 4 0 5 4 2 7]\n",
      " [1 2 0 7 1 5 2 4 1 6]\n",
      " [2 4 2 3 2 2 4 1 2 4]\n",
      " [3 3 3 5 5 5 3 3 5 3]\n",
      " [1 1 4 2 3 3 1 2 5 1]\n",
      " [1 4 3 3 4 0 1 2 5 5]\n",
      " [3 0 4 1 2 2 3 4 4 1]]\n",
      "\n",
      "grid final\n",
      "[[3 3 4 2 2 3 3 5 2 3]\n",
      " [3 4 3 3 4 4 4 3 5 1]\n",
      " [2 3 3 1 3 2 5 2 7 1]\n",
      " [1 1 3 4 1 4 4 4 1 6]\n",
      " [2 4 1 4 4 2 2 2 4 4]\n",
      " [3 1 5 1 4 5 2 4 4 2]\n",
      " [4 1 2 5 4 4 2 1 4 1]\n",
      " [1 4 3 2 3 1 3 4 3 4]\n",
      " [2 1 3 2 2 2 1 4 4 2]\n",
      " [3 2 1 3 3 2 4 1 2 3]]\n"
     ]
    },
    {
     "data": {
      "image/png": "[encoded data removed]",
      "text/plain": [
       "<Figure size 432x288 with 2 Axes>"
      ]
     },
     "metadata": {
      "needs_background": "light"
     },
     "output_type": "display_data"
    }
   ],
   "source": [
    "%run sandpile.py # import sandpile.py, letting us use all functions as it is.\n",
    "# Initialise a sandpile on a table\n",
    "\n",
    "sand = SandPile(10,10)\n",
    "sand.drop_sand(300)\n",
    "max_sand = np.amax(sand.grid)\n",
    "\n",
    "# Plot initial\n",
    "\n",
    "ax = sns.heatmap(sand.grid, cmap = \"OrRd\", vmax=max_sand)\n",
    "ax.set_title(\"initial sandpile\")\n",
    "fig = ax.get_figure()\n",
    "fig.savefig(\"initial.png\")\n",
    "\n",
    "sand.avalanche()\n",
    "print(f\"\\ngrid final\")\n",
    "print(f\"{sand.grid}\")\n"
   ]
  },
  {
   "cell_type": "code",
   "execution_count": 84,
   "metadata": {},
   "outputs": [
    {
     "data": {
      "image/png": "[encoded data removed]",
      "text/plain": [
       "<Figure size 432x288 with 2 Axes>"
      ]
     },
     "metadata": {
      "needs_background": "light"
     },
     "output_type": "display_data"
    }
   ],
   "source": [
    "# Plotting\n",
    "\n",
    "ax = sns.heatmap(sand.grid, cmap = \"OrRd\", vmax=max_sand)\n",
    "ax.set_title(\"after 1000 topples\")\n",
    "fig = ax.get_figure()\n",
    "fig.savefig(\"after_1000.png\")\n"
   ]
  },
  {
   "cell_type": "code",
   "execution_count": null,
   "metadata": {},
   "outputs": [],
   "source": []
  }
 ],
 "metadata": {
  "kernelspec": {
   "display_name": "Python 3",
   "language": "python",
   "name": "python3"
  },
  "language_info": {
   "codemirror_mode": {
    "name": "ipython",
    "version": 3
   },
   "file_extension": ".py",
   "mimetype": "text/x-python",
   "name": "python",
   "nbconvert_exporter": "python",
   "pygments_lexer": "ipython3",
   "version": "3.6.8"
  }
 },
 "nbformat": 4,
 "nbformat_minor": 2
}
